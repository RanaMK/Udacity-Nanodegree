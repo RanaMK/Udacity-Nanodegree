{
 "cells": [
  {
   "cell_type": "markdown",
   "metadata": {},
   "source": [
    "# Starbucks Capstone Challenge\n",
    "\n",
    "### Introduction\n",
    "\n",
    "This data set contains simulated data that mimics customer behavior on the Starbucks rewards mobile app. Once every few days, Starbucks sends out an offer to users of the mobile app. An offer can be merely an advertisement for a drink or an actual offer such as a discount or BOGO (buy one get one free). Some users might not receive any offer during certain weeks. \n",
    "\n",
    "Not all users receive the same offer, and that is the challenge to solve with this data set.\n",
    "\n",
    "Your task is to combine transaction, demographic and offer data to determine which demographic groups respond best to which offer type. This data set is a simplified version of the real Starbucks app because the underlying simulator only has one product whereas Starbucks actually sells dozens of products.\n",
    "\n",
    "Every offer has a validity period before the offer expires. As an example, a BOGO offer might be valid for only 5 days. You'll see in the data set that informational offers have a validity period even though these ads are merely providing information about a product; for example, if an informational offer has 7 days of validity, you can assume the customer is feeling the influence of the offer for 7 days after receiving the advertisement.\n",
    "\n",
    "You'll be given transactional data showing user purchases made on the app including the timestamp of purchase and the amount of money spent on a purchase. This transactional data also has a record for each offer that a user receives as well as a record for when a user actually views the offer. There are also records for when a user completes an offer. \n",
    "\n",
    "Keep in mind as well that someone using the app might make a purchase through the app without having received an offer or seen an offer.\n",
    "\n"
   ]
  },
  {
   "cell_type": "markdown",
   "metadata": {},
   "source": [
    "## Problem Statement \n",
    "\n",
    "\n",
    "The program used to create the data simulates how people make purchasing decisions and how those decisions are influenced by promotional offers.\n",
    "\n",
    "Each person in the simulation has some hidden traits that influence their purchasing patterns and are associated with their observable traits. People produce various events, including receiving offers, opening offers, and making purchases.\n",
    "\n",
    "As a simplification, there are no explicit products to track. Only the amounts of each transaction or offer are recorded.\n",
    "\n",
    "There are three types of offers that can be sent: buy-one-get-one (BOGO), discount, and informational. In a BOGO offer, a user needs to spend a certain amount to get a reward equal to that threshold amount. In a discount, a user gains a reward equal to a fraction of the amount spent. In an informational offer, there is no reward, but neither is there a requisite amount that the user is expected to spend. Offers can be delivered via multiple channels.\n",
    "\n",
    "The basic task is to use the data to identify which groups of people are most responsive to each type of offer, and how best to present each type of offer.\n",
    "\n",
    "So in this project, we will use machine learning to predict the response of customers to offers either by \"offer received\", \"offer viewed\" or \"offer completed\". This information will be predicted based on some demographic informatio of the users as well as other purchasing data.\n"
   ]
  },
  {
   "cell_type": "markdown",
   "metadata": {},
   "source": [
    "## Import the needed libraries"
   ]
  },
  {
   "cell_type": "code",
   "execution_count": 944,
   "metadata": {},
   "outputs": [],
   "source": [
    "import pandas as pd\n",
    "import numpy as np\n",
    "import math\n",
    "import json\n",
    "import matplotlib.pyplot as plt\n",
    "%matplotlib inline\n",
    "\n",
    "from sklearn import preprocessing\n",
    "from sklearn.model_selection import train_test_split\n",
    "from sklearn.metrics import confusion_matrix, classification_report, accuracy_score\n",
    "from sklearn.pipeline import Pipeline\n",
    "from sklearn.neighbors import KNeighborsClassifier\n",
    "from sklearn.ensemble import RandomForestClassifier\n",
    "from sklearn.tree import DecisionTreeClassifier\n",
    "\n",
    "from sklearn.model_selection import GridSearchCV\n",
    "\n",
    "import seaborn as sns"
   ]
  },
  {
   "cell_type": "markdown",
   "metadata": {},
   "source": [
    "## Read the data from json files"
   ]
  },
  {
   "cell_type": "code",
   "execution_count": 984,
   "metadata": {},
   "outputs": [],
   "source": [
    "def Load_datasets(portfolio_file_path, profile_file_path, transcript_file_path):\n",
    "    \"\"\"\n",
    "    This function is used to load the datasets from json files\n",
    "    \n",
    "    Input:\n",
    "    portfolio_file_path -- portfolio dataset file path\n",
    "    profile_file_path --  profile dataset file path\n",
    "    transcript_file_path -- transcript dataset file path\n",
    "    \n",
    "    Output:\n",
    "    portfolio -- portfolio dataframe\n",
    "    profile -- profile dataframe\n",
    "    transcript -- transcript dataframe\n",
    "    \n",
    "    \"\"\"\n",
    "    \n",
    "    # read in the json files\n",
    "    portfolio = pd.read_json(portfolio_file_path, orient='records', lines=True) #'data/portfolio.json'\n",
    "    profile = pd.read_json(profile_file_path, orient='records', lines=True) #'data/profile.json'\n",
    "    transcript = pd.read_json(transcript_file_path, orient='records', lines=True) #'data/transcript.json'\n",
    "    \n",
    "    return portfolio, profile, transcript"
   ]
  },
  {
   "cell_type": "code",
   "execution_count": null,
   "metadata": {},
   "outputs": [],
   "source": []
  },
  {
   "cell_type": "markdown",
   "metadata": {},
   "source": [
    "## Data Preparation and Cleaning"
   ]
  },
  {
   "cell_type": "markdown",
   "metadata": {},
   "source": [
    "This section contains all the functions needed to clean and transform the datasets"
   ]
  },
  {
   "cell_type": "markdown",
   "metadata": {},
   "source": [
    "**1- Portfolio dataset**\n",
    "\n",
    "Offers sent during 30-day test period (10 offers x 6 fields)\n",
    "* reward: (numeric) money awarded for the amount spent\n",
    "* channels: (list) web, email, mobile, social\n",
    "* difficulty: (numeric) money required to be spent to receive reward\n",
    "* duration: (numeric) time for offer to be open, in days\n",
    "* offer_type: (string) type of offer: bogo, discount, informational\n",
    "* id: (string/hash)\n",
    "\n",
    "There are three types of offers that can be sent: buy-one-get-one (BOGO), discount, and informational. \n",
    "- In a BOGO offer, a user needs to spend a certain amount to get a reward equal to that threshold amount. \n",
    "- In a discount, a user gains a reward equal to a fraction of the amount spent. \n",
    "- In an informational offer, there is no reward, but neither is there a requisite amount that the user is expected to spend. \n",
    "\n",
    "Offers can be delivered via multiple channels.\n"
   ]
  },
  {
   "cell_type": "code",
   "execution_count": 985,
   "metadata": {},
   "outputs": [],
   "source": [
    "def clean_portfolio(portfolio):\n",
    "    \"\"\"\n",
    "    This function cleans the portfolio dataset by filling the missing values \n",
    "    and convert any string column into numeric by One hot encoding\n",
    "    \n",
    "    Input:\n",
    "    portfolio -- portfolio dataset\n",
    "    \n",
    "    Output:\n",
    "    portfolio dataset cleaned\n",
    "    \n",
    "    \"\"\"\n",
    "    \n",
    "    portfolio_cleaned = portfolio.copy()\n",
    "    # make channels separate columns and make them numeric (One hot encoding)\n",
    "    channels = []\n",
    "    for lst in portfolio_cleaned['channels']:\n",
    "        channels.extend(lst)\n",
    "\n",
    "    df_exploded = portfolio_cleaned.explode('channels')\n",
    "    df_exploded['_helper'] = 1\n",
    "    df_wide = df_exploded.pivot(index='id', columns='channels', values='_helper')\n",
    "    df_wide = df_wide.fillna(0)\n",
    "\n",
    "    portfolio_cleaned = portfolio_cleaned.merge(df_wide, how='inner', on='id')\n",
    "    \n",
    "    portfolio_cleaned = portfolio_cleaned.drop('channels', axis=1)\n",
    "    \n",
    "    \n",
    "    # Make offer type numeric (One hot encoding)\n",
    "    offer_types = pd.get_dummies(portfolio_cleaned.offer_type, dtype='int64')\n",
    "\n",
    "    portfolio_cleaned = pd.concat([portfolio_cleaned,offer_types], axis=1)\n",
    "#     portfolio = portfolio.drop('offer_type', axis=1)\n",
    "\n",
    "    \n",
    "    # Rename reward columns\n",
    "    portfolio_cleaned = portfolio_cleaned.rename(columns = {'reward':'reward_offer'})\n",
    "    \n",
    "    return portfolio_cleaned\n"
   ]
  },
  {
   "cell_type": "code",
   "execution_count": null,
   "metadata": {},
   "outputs": [],
   "source": []
  },
  {
   "cell_type": "markdown",
   "metadata": {},
   "source": [
    "**2- Profile Dataset**\n",
    "\n",
    "Rewards program users (17000 users x 5 fields)\n",
    "* gender: (categorical) M, F, O, or null\n",
    "* age: (numeric) missing value encoded as 118\n",
    "* id: (string/hash)\n",
    "* became_member_on: (date) format YYYYMMDD\n",
    "* income: (numeric)\n"
   ]
  },
  {
   "cell_type": "code",
   "execution_count": 986,
   "metadata": {},
   "outputs": [],
   "source": [
    "def clean_profile(profile):\n",
    "    \"\"\"\n",
    "    This function cleans the profile dataset by filling the missing values \n",
    "    and convert any string column into numeric by One hot encoding\n",
    "    \n",
    "    Input:\n",
    "    profile -- profile dataset\n",
    "    \n",
    "    Output:\n",
    "    profile dataset cleaned\n",
    "    \n",
    "    \n",
    "    \"\"\"\n",
    "    \n",
    "    # Fill nulls\n",
    "    \n",
    "#     We can see that records with missing values have missing the three columns: age, gender and income!!\n",
    "#     For income column, we can fill the nul with the mean. While the Gender column, we can fill with forward fill\n",
    "\n",
    "    profile_cleaned = profile.copy()\n",
    "    mean_income = profile_cleaned['income'].mean()\n",
    "    profile_cleaned['income'] = profile_cleaned['income'].fillna(mean_income)\n",
    "#     profile_cleaned.isnull().sum()\n",
    "\n",
    "\n",
    "    # replace gender with the most common appearing value\n",
    "    mode_gender = profile_cleaned['gender'].mode()[0]\n",
    "    profile_cleaned['gender'] = profile_cleaned['gender'].fillna(mode_gender)\n",
    "    \n",
    "    # Make Gender numeric (One hot encoding)\n",
    "    le = preprocessing.LabelEncoder()\n",
    "    le.fit(profile_cleaned['gender'])\n",
    "#     print(le.classes_)\n",
    "    profile_cleaned['gender'] = le.transform(profile_cleaned['gender'])\n",
    "\n",
    "    \n",
    "    \n",
    "#     We can see that records with missing values have missing the three columns: age, gender and income!!\n",
    "# For income column, we can fill the nul with the mean. While the Gender column, we can fill with forward fill\n",
    "    \n",
    "    return profile_cleaned\n"
   ]
  },
  {
   "cell_type": "code",
   "execution_count": null,
   "metadata": {},
   "outputs": [],
   "source": []
  },
  {
   "cell_type": "markdown",
   "metadata": {},
   "source": [
    "**3- Transcript Dataset**\n",
    "\n",
    "Event log (306648 events x 4 fields)\n",
    "* person: (string/hash)\n",
    "* event: (string) offer received, offer viewed, transaction, offer completed\n",
    "* value: (dictionary) different values depending on event type\n",
    "    * offer id: (string/hash) not associated with any \"transaction\"\n",
    "    * amount: (numeric) money spent in \"transaction\"\n",
    "    * reward: (numeric) money gained from \"offer completed\"\n",
    "* time: (numeric) hours after start of test"
   ]
  },
  {
   "cell_type": "code",
   "execution_count": 987,
   "metadata": {},
   "outputs": [],
   "source": [
    "def clean_transcript(transcript):\n",
    "    \"\"\"\n",
    "    This function cleans the transcript dataset by filling the missing values \n",
    "    and convert any string column into numeric by One hot encoding.\n",
    "    In addition, it adds some information like the counts and sum of transcations amounts.\n",
    "    \n",
    "    Input:\n",
    "    transcript -- transcript dataset\n",
    "    \n",
    "    Output:\n",
    "    transcript dataset cleaned\n",
    "    \n",
    "    \"\"\"\n",
    "    \n",
    "    # Extract the data contained in dictionary column \"value\"\n",
    "    transcript_cleaned = transcript.copy()\n",
    "    transcript_cleaned['offer id'] = transcript_cleaned['value'].apply(lambda x: x.get('offer id') if x.get('offer id') else x.get('offer_id'))\n",
    "    transcript_cleaned['amount'] = transcript_cleaned['value'].apply(lambda x: x.get('amount'))\n",
    "    transcript_cleaned['reward'] = transcript_cleaned['value'].apply(lambda x: x.get('reward'))\n",
    "    transcript_cleaned = transcript_cleaned.drop(['value'], axis=1)\n",
    "    \n",
    "    \n",
    "    # calculate count of transactions performed by the user then remove transactions not related to offers\n",
    "    count_transactions = pd.DataFrame(transcript_cleaned.groupby('person')['amount'].count()).reset_index()\n",
    "    count_transactions.columns = ['person', 'Count_Transactions']\n",
    "    Sum_transactions = pd.DataFrame(transcript_cleaned.groupby('person')['amount'].sum()).reset_index()\n",
    "    Sum_transactions.columns = ['person', 'total_amount_spent']\n",
    "\n",
    "    transcript_cleaned = transcript_cleaned.merge(count_transactions, how='inner', on='person')\n",
    "    transcript_cleaned = transcript_cleaned.merge(Sum_transactions, how='inner', on='person')\n",
    "\n",
    "#     transcript[transcript['person']=='0009655768c64bdeb2e877511632db8f'] #9fa9ae8f57894cc9a3b8a9bbe0fc1b2f\n",
    "    \n",
    "    # Fill Nan values\n",
    "    transcript_cleaned = transcript_cleaned.rename(columns = {'reward':'reward_transaction'})\n",
    "    \n",
    "    transcript_cleaned['reward_transaction'] = transcript_cleaned['reward_transaction'].fillna(0)\n",
    "    transcript_cleaned['amount'] = transcript_cleaned['amount'].fillna(0)\n",
    "    \n",
    "# From this exploration, we can see that records with \"Offer received\" and \"Offer Viwed\" has \"offer ID\" while records with \"Transacion\" have \"amount\" and finally records with \"offer completed\" have \"reward\"    \n",
    "    \n",
    "    return transcript_cleaned\n"
   ]
  },
  {
   "cell_type": "markdown",
   "metadata": {},
   "source": [
    "### Make a new combined dataset with all the information"
   ]
  },
  {
   "cell_type": "code",
   "execution_count": 988,
   "metadata": {},
   "outputs": [],
   "source": [
    "def transform_merge_all_datasets(portfolio_cleaned, profile_cleaned, transcript_cleaned):\n",
    "    \"\"\"\n",
    "    This function is used to make a new combined dataset with all the information\n",
    "    Also, it adds some information like the counts of offers ('bogo_counts', 'discount_counts', 'informational_counts')\n",
    "    \n",
    "    Input:\n",
    "    portfolio_cleaned -- portfolio dataset after being cleaned\n",
    "    profile_cleaned -- profile  dataset after being cleaned\n",
    "    transcript_cleaned -- transcript  dataset after being cleaned\n",
    "    \n",
    "    \n",
    "    Output:\n",
    "    df -- combine or merged dataframe\n",
    "    \n",
    "    \"\"\"\n",
    "    \n",
    "\n",
    "    # Merge aall datasets into one dataset\n",
    "\n",
    "    df = transcript_cleaned.merge(portfolio_cleaned, how = 'inner', left_on='offer id', right_on = 'id')\n",
    "    # inner join to drop transactions rows\n",
    "    df = df.drop('id', axis=1)\n",
    "\n",
    "    df = df.merge(profile_cleaned, how = 'inner', left_on='person', right_on = 'id')\n",
    "    df = df.drop('id', axis=1)\n",
    "\n",
    "    offer_counts_df = pd.DataFrame(df.groupby(['person','event'])['offer id'].count().unstack()).reset_index()\n",
    "    \n",
    "    offer_type_df = pd.DataFrame(df.groupby(['person','offer_type'])['offer id'].count().unstack()).reset_index()\n",
    "    \n",
    "    counts_df = offer_type_df.merge(offer_type_df, how='inner', on='person')\n",
    "\n",
    "    counts_df.columns = ['person', 'bogo_counts', 'discount_counts', 'informational_counts', 'bogo_y',\n",
    "       'discount_y', 'informational_y']\n",
    "    \n",
    "    df = df.merge(counts_df, how='inner', on='person')\n",
    "    \n",
    "    df = df.drop('offer_type', axis=1)\n",
    "\n",
    "    df.drop(list(df.filter(regex='_y$')), axis=1, inplace=True)\n",
    "    \n",
    "#     df.columns = df.columns.str.replace('_x','')\n",
    "    \n",
    "    df['bogo_counts'] = df['bogo_counts'].fillna(0)\n",
    "    df['discount_counts'] = df['discount_counts'].fillna(0)\n",
    "    df['informational_counts'] = df['informational_counts'].fillna(0)\n",
    "\n",
    "\n",
    "    return df"
   ]
  },
  {
   "cell_type": "code",
   "execution_count": null,
   "metadata": {},
   "outputs": [],
   "source": []
  },
  {
   "cell_type": "markdown",
   "metadata": {},
   "source": [
    "## Data Exploration and Understanding"
   ]
  },
  {
   "cell_type": "markdown",
   "metadata": {},
   "source": [
    "Befor exploring the data and make some observations, we will load and clean the datasets using the previously created functions."
   ]
  },
  {
   "cell_type": "code",
   "execution_count": 989,
   "metadata": {},
   "outputs": [],
   "source": [
    "portfolio, profile, transcript = Load_datasets('data/portfolio.json', 'data/profile.json', 'data/transcript.json')\n",
    "portfolio_cleaned = clean_portfolio(portfolio)\n",
    "profile_cleaned = clean_profile(profile)\n",
    "transcript_cleaned = clean_transcript(transcript)\n"
   ]
  },
  {
   "cell_type": "markdown",
   "metadata": {},
   "source": [
    "#### What are the available offers and their types?"
   ]
  },
  {
   "cell_type": "code",
   "execution_count": 990,
   "metadata": {},
   "outputs": [
    {
     "data": {
      "text/html": [
       "<div>\n",
       "<style scoped>\n",
       "    .dataframe tbody tr th:only-of-type {\n",
       "        vertical-align: middle;\n",
       "    }\n",
       "\n",
       "    .dataframe tbody tr th {\n",
       "        vertical-align: top;\n",
       "    }\n",
       "\n",
       "    .dataframe thead th {\n",
       "        text-align: right;\n",
       "    }\n",
       "</style>\n",
       "<table border=\"1\" class=\"dataframe\">\n",
       "  <thead>\n",
       "    <tr style=\"text-align: right;\">\n",
       "      <th></th>\n",
       "      <th>offer_type</th>\n",
       "      <th>count</th>\n",
       "    </tr>\n",
       "  </thead>\n",
       "  <tbody>\n",
       "    <tr>\n",
       "      <th>0</th>\n",
       "      <td>bogo</td>\n",
       "      <td>4</td>\n",
       "    </tr>\n",
       "    <tr>\n",
       "      <th>1</th>\n",
       "      <td>discount</td>\n",
       "      <td>4</td>\n",
       "    </tr>\n",
       "    <tr>\n",
       "      <th>2</th>\n",
       "      <td>informational</td>\n",
       "      <td>2</td>\n",
       "    </tr>\n",
       "  </tbody>\n",
       "</table>\n",
       "</div>"
      ],
      "text/plain": [
       "      offer_type  count\n",
       "0           bogo      4\n",
       "1       discount      4\n",
       "2  informational      2"
      ]
     },
     "execution_count": 990,
     "metadata": {},
     "output_type": "execute_result"
    },
    {
     "data": {
      "image/png": "[encoded data removed]",
      "text/plain": [
       "<Figure size 360x360 with 1 Axes>"
      ]
     },
     "metadata": {},
     "output_type": "display_data"
    }
   ],
   "source": [
    "#check portoflio type counts\n",
    "\n",
    "count_by_offertype = portfolio.groupby('offer_type')['id'].count()\n",
    "count_by_offertype = pd.DataFrame(count_by_offertype).reset_index()\n",
    "# count_by_offertype\n",
    "count_by_offertype.columns = ['offer_type', 'count']\n",
    "\n",
    "# count_by_offertype.hist()#x=count_by_offertype['offer_type'] , y=count_by_offertype['count'])\n",
    "plt.bar(x=count_by_offertype['offer_type'] , height=count_by_offertype['count'])\n",
    "plt.title('Available Offers')\n",
    "count_by_offertype"
   ]
  },
  {
   "cell_type": "markdown",
   "metadata": {},
   "source": [
    "This dataset has 4 offers wth bogo and 4 with discount and 2 informational\n",
    "\n"
   ]
  },
  {
   "cell_type": "markdown",
   "metadata": {},
   "source": [
    "#### What are the Purchasing types of customers and their counts?"
   ]
  },
  {
   "cell_type": "code",
   "execution_count": 991,
   "metadata": {},
   "outputs": [
    {
     "data": {
      "image/png": "[encoded data removed]",
      "text/plain": [
       "<Figure size 360x360 with 1 Axes>"
      ]
     },
     "metadata": {},
     "output_type": "display_data"
    }
   ],
   "source": [
    "## What are the events?\n",
    "events = transcript['event'].unique()\n",
    "# print(events)\n",
    "\n",
    "Num_events = transcript.groupby('event')['person'].count().reset_index()\n",
    "Num_events.columns = ['event', 'count']\n",
    "plt.pie(Num_events['count'], labels = Num_events['event'],autopct='%1.1f%%')\n",
    "plt.title('Count of Purchasing types');"
   ]
  },
  {
   "cell_type": "markdown",
   "metadata": {},
   "source": [
    "We can see that the transaction records have the biggest number because not all transactions are related to offers. There are a lot of transactions done by people without receiving an offer or maybe after receiving an offer but not using it due to the minimum amount needed to redeem the offer for example.\n"
   ]
  },
  {
   "cell_type": "markdown",
   "metadata": {},
   "source": [
    "#### What are the most purchased type of offer?"
   ]
  },
  {
   "cell_type": "code",
   "execution_count": 992,
   "metadata": {},
   "outputs": [
    {
     "data": {
      "image/png": "[encoded data removed]",
      "text/plain": [
       "<Figure size 360x360 with 1 Axes>"
      ]
     },
     "metadata": {},
     "output_type": "display_data"
    }
   ],
   "source": [
    "# Count offer transactions\n",
    "completed_offers = transcript_cleaned.merge(portfolio, how='inner', left_on='offer id', right_on='id')\n",
    "completed_offers = completed_offers[['person', 'event', 'offer id', 'offer_type']]\n",
    "\n",
    "count_completed_offers = completed_offers.groupby(['event', 'offer_type'])['person'].count().reset_index()\n",
    "count_completed_offers.columns = ['event', 'offer_type','count']\n",
    "count_completed_offers = count_completed_offers.append({'event':'offer completed','offer_type': 'informational', 'count':0}, ignore_index=True)\n",
    "# count_completed_offers\n",
    "\n",
    "# Plot\n",
    "import seaborn as sns\n",
    "sns.set(rc={'figure.figsize':(5,5)})\n",
    "sns.barplot(x = 'offer_type', \n",
    "            y = 'count',\n",
    "            hue = 'event',\n",
    "            data = count_completed_offers.sort_values(by='count', ascending=False)).set_title('Count of transactions per Offer Type');\n"
   ]
  },
  {
   "cell_type": "markdown",
   "metadata": {},
   "source": [
    "\n",
    "\n",
    "We can see from the above chart that \"Dicount\" offer has the biggest Completed offer number which means that people like discount offers more than bogo.\n",
    "Also, an obvious observation that the number of received offer is greater than the viewed one which is greater than the completed one because not all offers sent to customers are redeemed in real life."
   ]
  },
  {
   "cell_type": "markdown",
   "metadata": {},
   "source": [
    "#### Let's explore the customers data"
   ]
  },
  {
   "cell_type": "markdown",
   "metadata": {},
   "source": [
    "#### Age distribution of customers"
   ]
  },
  {
   "cell_type": "code",
   "execution_count": 993,
   "metadata": {},
   "outputs": [
    {
     "data": {
      "image/png": "[encoded data removed]",
      "text/plain": [
       "<Figure size 360x360 with 1 Axes>"
      ]
     },
     "metadata": {},
     "output_type": "display_data"
    }
   ],
   "source": [
    "profile.age.hist()\n",
    "plt.xlabel('Age')\n",
    "plt.ylabel('Counts')\n",
    "plt.title(\"Customer's Age Distribution\");"
   ]
  },
  {
   "cell_type": "markdown",
   "metadata": {},
   "source": [
    "#### Gender distribution of customers"
   ]
  },
  {
   "cell_type": "code",
   "execution_count": 994,
   "metadata": {},
   "outputs": [
    {
     "data": {
      "image/png": "[encoded data removed]",
      "text/plain": [
       "<Figure size 360x360 with 1 Axes>"
      ]
     },
     "metadata": {},
     "output_type": "display_data"
    }
   ],
   "source": [
    "profile.gender.hist()\n",
    "plt.xlabel('Gender')\n",
    "plt.ylabel('Counts')\n",
    "plt.title(\"Customer's Gender Distribution\");"
   ]
  },
  {
   "cell_type": "markdown",
   "metadata": {},
   "source": [
    "#### Income distribution of customers"
   ]
  },
  {
   "cell_type": "code",
   "execution_count": 995,
   "metadata": {},
   "outputs": [
    {
     "data": {
      "image/png": "[encoded data removed]",
      "text/plain": [
       "<Figure size 360x360 with 1 Axes>"
      ]
     },
     "metadata": {},
     "output_type": "display_data"
    }
   ],
   "source": [
    "profile.income.hist()\n",
    "plt.xlabel('Gender')\n",
    "plt.ylabel('Counts')\n",
    "plt.title(\"Customer's Gender Distribution\");"
   ]
  },
  {
   "cell_type": "code",
   "execution_count": null,
   "metadata": {},
   "outputs": [],
   "source": []
  },
  {
   "cell_type": "markdown",
   "metadata": {},
   "source": [
    "## Data Modeling and Evaluation"
   ]
  },
  {
   "cell_type": "markdown",
   "metadata": {},
   "source": [
    "This part is used to create a machine learning model and predict the purchasing level of offers"
   ]
  },
  {
   "cell_type": "code",
   "execution_count": 1038,
   "metadata": {},
   "outputs": [],
   "source": [
    "def build_model(classifier='Random Forest'):\n",
    "    \"\"\"\n",
    "    This function splits the data into training and test sets and fit the model.\n",
    "    into this data. There are 3 versions of building the model:\n",
    "    1- Using Random Forest classifier\n",
    "    2- Using Decision Tree classifier\n",
    "    3- Using K Neareset Neighbor classifier\n",
    "    \n",
    "    Input:\n",
    "    classifier -- takes one of 3 inputs 'Random Forest', 'Decision Tree' or 'KNN'\n",
    "    \n",
    "    Output:\n",
    "    model fitted\n",
    "    \n",
    "    \"\"\"\n",
    "    if classifier == 'Random Forest':\n",
    "        pipeline = Pipeline([\n",
    "            ('classifier', RandomForestClassifier())\n",
    "        ])\n",
    "        \n",
    "        parameters = {\n",
    "            'classifier__n_estimators': (1, 4, 5, 10),\n",
    "            'classifier__max_depth': (5, 10)\n",
    "        }\n",
    "\n",
    "    elif classifier == 'Decision Tree':\n",
    "        pipeline = Pipeline([\n",
    "            ('classifier', DecisionTreeClassifier())\n",
    "        ])\n",
    "\n",
    "        parameters = {\n",
    "            'classifier__max_depth': [None, 5, 10]\n",
    "        }\n",
    "        \n",
    "    elif classifier == 'KNN':\n",
    "        pipeline = Pipeline([\n",
    "            ('classifier', KNeighborsClassifier())\n",
    "        ])\n",
    "\n",
    "        parameters = {    \n",
    "            'classifier__n_jobs': [1, 3, 5],\n",
    "            'classifier__n_neighbors': [5, 7, 10]\n",
    "\n",
    "        }\n",
    "            \n",
    "\n",
    "    cv = GridSearchCV(pipeline, param_grid=parameters)\n",
    "\n",
    "    \n",
    "    return cv\n",
    "\n",
    "\n",
    "def evaluate_model(model, X_test, y_test, category_names):\n",
    "    \"\"\"\n",
    "    This function uses the ML model to predict the output of any new data given and prints the classification result report as Precision, Recall and F1-score\n",
    "    and prints the results of prediction as classification report, confusion matrix and accuracy.\n",
    "    \n",
    "    Input:\n",
    "    model -- ML model or classifier\n",
    "    X_test -- The testing data\n",
    "    Y_test -- the correct result of testing data\n",
    "    category_names -- classes names\n",
    "    \n",
    "    Output:\n",
    "    None\n",
    "    \"\"\"\n",
    "    y_pred = model.predict(X_test)\n",
    "#     y_pred.columns = category_names\n",
    "    \n",
    "    print(\"The target value counts\")\n",
    "#     for i in set(y_pred):\n",
    "#         print(y_pred.count(i)\n",
    "    print(pd.DataFrame({'Target Value':category_names, 'Counts':np.unique(list(y_pred), return_counts=True)[1]}))\n",
    "    \n",
    "    print('\\n classification report \\n')\n",
    "    print(classification_report(y_test,y_pred, target_names=category_names))\n",
    "    print('\\n confusion matrix \\n')\n",
    "    print(confusion_matrix(y_test,y_pred))\n",
    "    print('\\n Accuracy \\n')\n",
    "    print(accuracy_score(y_test,y_pred))\n",
    "    print('\\n Model F1 Score \\n')\n",
    "    print(model.score(X_test, y_test))\n",
    "\n",
    "\n"
   ]
  },
  {
   "cell_type": "code",
   "execution_count": 1039,
   "metadata": {},
   "outputs": [],
   "source": [
    "def main(classifier='Random Forest'):\n",
    "    \n",
    "    portfolio, profile, transcript = Load_datasets('data/portfolio.json', 'data/profile.json', 'data/transcript.json')\n",
    "\n",
    "    portfolio_cleaned = clean_portfolio(portfolio)\n",
    "#     portfolio_cleaned.head()\n",
    "\n",
    "    profile_cleaned = clean_profile(profile)\n",
    "#     profile_cleaned.head()\n",
    "\n",
    "    transcript_cleaned = clean_transcript(transcript)\n",
    "#     transcript_cleaned.head()\n",
    "\n",
    "    df = transform_merge_all_datasets(portfolio_cleaned, profile_cleaned, transcript_cleaned)\n",
    "#     df.head()\n",
    "\n",
    "    ## Build Features and Target vectors\n",
    "    X = df[['time', 'amount', 'reward_transaction',\n",
    "           'Count_Transactions', 'total_amount_spent', 'reward_offer',\n",
    "           'difficulty', 'duration', 'email', 'mobile', 'social',\n",
    "           'web', 'gender', 'age', 'became_member_on', 'income', 'bogo_counts',\n",
    "           'discount_counts', 'informational_counts', 'bogo', 'discount',\n",
    "           'informational']]\n",
    "    y = df['event']\n",
    "\n",
    "\n",
    "    # Use one hot encoder to encode target value\n",
    "    le = preprocessing.LabelEncoder()\n",
    "    le.fit(y)\n",
    "#     print(list(le.classes_))\n",
    "    y = le.transform(y)\n",
    "\n",
    "    category_names = list(le.classes_)\n",
    "\n",
    "    ### Split train and test sets\n",
    "    X_train, X_test, y_train, y_test = train_test_split(X, y, test_size=0.2)\n",
    "\n",
    "    classifier = build_model(classifier)\n",
    "\n",
    "    classifier.fit(X_train, y_train)\n",
    "    \n",
    "    print(\"The best parameters for this classifier are: \\n\")\n",
    "    print(classifier.best_params_)\n",
    "    \n",
    "\n",
    "    evaluate_model(classifier, X_test, y_test, category_names)\n",
    "    \n",
    "    print(\"\\n ---------------------------------------------------------------- \\n\")"
   ]
  },
  {
   "cell_type": "code",
   "execution_count": 1040,
   "metadata": {},
   "outputs": [
    {
     "name": "stdout",
     "output_type": "stream",
     "text": [
      "Using classifier Random Forest: \n",
      "\n",
      "The best parameters for this classifier are: \n",
      "\n",
      "{'classifier__max_depth': 10, 'classifier__n_estimators': 10}\n",
      "The target value counts\n",
      "      Target Value  Counts\n",
      "0  offer completed    6643\n",
      "1   offer received   23595\n",
      "2     offer viewed    3279\n",
      "\n",
      " classification report \n",
      "\n",
      "                 precision    recall  f1-score   support\n",
      "\n",
      "offer completed       1.00      1.00      1.00      6643\n",
      " offer received       0.64      0.99      0.78     15258\n",
      "   offer viewed       0.97      0.27      0.43     11616\n",
      "\n",
      "       accuracy                           0.75     33517\n",
      "      macro avg       0.87      0.76      0.74     33517\n",
      "   weighted avg       0.83      0.75      0.70     33517\n",
      "\n",
      "\n",
      " confusion matrix \n",
      "\n",
      "[[ 6643     0     0]\n",
      " [    0 15169    89]\n",
      " [    0  8426  3190]]\n",
      "\n",
      " Accuracy \n",
      "\n",
      "0.7459498165110242\n",
      "\n",
      " Model F1 Score \n",
      "\n",
      "0.7459498165110242\n",
      "\n",
      " ---------------------------------------------------------------- \n",
      "\n",
      "Using classifier KNN: \n",
      "\n",
      "The best parameters for this classifier are: \n",
      "\n",
      "{'classifier__max_depth': 10, 'classifier__n_estimators': 10}\n",
      "The target value counts\n",
      "      Target Value  Counts\n",
      "0  offer completed    6711\n",
      "1   offer received   22829\n",
      "2     offer viewed    3977\n",
      "\n",
      " classification report \n",
      "\n",
      "                 precision    recall  f1-score   support\n",
      "\n",
      "offer completed       1.00      1.00      1.00      6711\n",
      " offer received       0.66      0.99      0.80     15222\n",
      "   offer viewed       0.98      0.34      0.50     11584\n",
      "\n",
      "       accuracy                           0.77     33517\n",
      "      macro avg       0.88      0.78      0.77     33517\n",
      "   weighted avg       0.84      0.77      0.73     33517\n",
      "\n",
      "\n",
      " confusion matrix \n",
      "\n",
      "[[ 6711     0     0]\n",
      " [    0 15136    86]\n",
      " [    0  7693  3891]]\n",
      "\n",
      " Accuracy \n",
      "\n",
      "0.7679088223886386\n",
      "\n",
      " Model F1 Score \n",
      "\n",
      "0.7679088223886386\n",
      "\n",
      " ---------------------------------------------------------------- \n",
      "\n",
      "Using classifier Decision Tree: \n",
      "\n",
      "The best parameters for this classifier are: \n",
      "\n",
      "{'classifier__max_depth': 10, 'classifier__n_estimators': 10}\n",
      "The target value counts\n",
      "      Target Value  Counts\n",
      "0  offer completed    6642\n",
      "1   offer received   23566\n",
      "2     offer viewed    3309\n",
      "\n",
      " classification report \n",
      "\n",
      "                 precision    recall  f1-score   support\n",
      "\n",
      "offer completed       1.00      1.00      1.00      6642\n",
      " offer received       0.64      0.99      0.78     15183\n",
      "   offer viewed       0.96      0.27      0.42     11692\n",
      "\n",
      "       accuracy                           0.74     33517\n",
      "      macro avg       0.87      0.75      0.73     33517\n",
      "   weighted avg       0.82      0.74      0.70     33517\n",
      "\n",
      "\n",
      " confusion matrix \n",
      "\n",
      "[[ 6642     0     0]\n",
      " [    0 15041   142]\n",
      " [    0  8525  3167]]\n",
      "\n",
      " Accuracy \n",
      "\n",
      "0.7414148044276039\n",
      "\n",
      " Model F1 Score \n",
      "\n",
      "0.7414148044276039\n",
      "\n",
      " ---------------------------------------------------------------- \n",
      "\n"
     ]
    }
   ],
   "source": [
    "\n",
    "classifiers = ['Random Forest', 'KNN', 'Decision Tree']\n",
    "\n",
    "for classifier in classifiers:\n",
    "    print(\"Using classifier \" + classifier +': \\n')\n",
    "    main(classifier='Random Forest')\n"
   ]
  },
  {
   "cell_type": "markdown",
   "metadata": {},
   "source": [
    "## Conclusion"
   ]
  },
  {
   "cell_type": "markdown",
   "metadata": {},
   "source": [
    "In this project, the machine learning model was run with 3 version:\n",
    "* Random Forest\n",
    "* K Nearest Neighbors\n",
    "* Decision Tree\n",
    "\n",
    "We can see that the three models perform almost the same with an accuracy between 74 ad 76% which is acceptable.\n",
    "\n",
    "There is one comment on data imbalance as most of the \"offers\" have purchasing type \"offer received\" and not \"viewed\" or \"completed\" as shown in the above tables of the counts of predicted target values from all models so most of the events are predicted as \"offer received\" because \"offer received\" is the most occuring event.\n",
    "\n"
   ]
  },
  {
   "cell_type": "code",
   "execution_count": null,
   "metadata": {},
   "outputs": [],
   "source": []
  },
  {
   "cell_type": "code",
   "execution_count": null,
   "metadata": {},
   "outputs": [],
   "source": []
  },
  {
   "cell_type": "code",
   "execution_count": null,
   "metadata": {},
   "outputs": [],
   "source": []
  }
 ],
 "metadata": {
  "kernelspec": {
   "display_name": "Python 3",
   "language": "python",
   "name": "python3"
  },
  "language_info": {
   "codemirror_mode": {
    "name": "ipython",
    "version": 3
   },
   "file_extension": ".py",
   "mimetype": "text/x-python",
   "name": "python",
   "nbconvert_exporter": "python",
   "pygments_lexer": "ipython3",
   "version": "3.8.5"
  }
 },
 "nbformat": 4,
 "nbformat_minor": 2
}
